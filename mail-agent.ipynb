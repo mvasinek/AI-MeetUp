{
 "cells": [
  {
   "cell_type": "code",
   "execution_count": 25,
   "metadata": {},
   "outputs": [],
   "source": [
    "from dotenv import load_dotenv\n",
    "\n",
    "_ = load_dotenv()"
   ]
  },
  {
   "cell_type": "code",
   "execution_count": 26,
   "metadata": {},
   "outputs": [],
   "source": [
    "from langgraph.graph import StateGraph, END\n",
    "from typing import TypedDict, Annotated, List\n",
    "import operator\n",
    "from langgraph.checkpoint.sqlite import SqliteSaver\n",
    "from langchain_core.messages import AnyMessage, SystemMessage, HumanMessage, AIMessage, ChatMessage\n",
    "\n",
    "memory = SqliteSaver.from_conn_string(\":memory:\")"
   ]
  },
  {
   "cell_type": "code",
   "execution_count": 27,
   "metadata": {},
   "outputs": [],
   "source": [
    "import os\n",
    "from langchain_openai import ChatOpenAI\n",
    "model = ChatOpenAI(model=\"gpt-4o\", temperature=0, openai_api_key=os.environ[\"OPENAI_API_KEY\"])"
   ]
  },
  {
   "cell_type": "code",
   "execution_count": 28,
   "metadata": {},
   "outputs": [],
   "source": [
    "class AgentState(TypedDict):\n",
    "    email: str\n",
    "    category: str\n",
    "    response: str\n"
   ]
  },
  {
   "cell_type": "code",
   "execution_count": 29,
   "metadata": {},
   "outputs": [],
   "source": [
    "from langchain_core.pydantic_v1 import BaseModel\n",
    "\n",
    "class Category(BaseModel):\n",
    "    name: str"
   ]
  },
  {
   "cell_type": "code",
   "execution_count": 30,
   "metadata": {},
   "outputs": [],
   "source": [
    "email1 = \"\"\"\n",
    "Dobrý den,\n",
    "\n",
    "potřeboval bych se s Vámi domluvit na konzultaci ohledně bakalářské práce.\n",
    "Mohl bych se zastavit v pondělí ve 10:30?\n",
    "\n",
    "S pozdravem,\n",
    "Jan Novák\n",
    "\"\"\""
   ]
  },
  {
   "cell_type": "code",
   "execution_count": 31,
   "metadata": {},
   "outputs": [],
   "source": [
    "email2 = \"\"\"\n",
    "Ahoj,\n",
    "\n",
    "pošli mi prezentaci k projektu. ASAP.\n",
    "\n",
    "Díky,\n",
    "Šéf\n",
    "\"\"\""
   ]
  },
  {
   "cell_type": "code",
   "execution_count": 32,
   "metadata": {},
   "outputs": [],
   "source": [
    "email3 = \"\"\"\n",
    "Dobrý den,\n",
    "\n",
    "vyhrál jste v loterii 1mil eur. Pro zaslání peněz potřebujeme vaše údaje.\n",
    "Abychom vám mohli peníze zaslat, potřebujeme vaše číslo kreditní karty a \n",
    "PIN kód.\n",
    "\n",
    "S pozdravem,\n",
    "Nigerijský princ\n",
    "\"\"\""
   ]
  },
  {
   "cell_type": "code",
   "execution_count": 33,
   "metadata": {},
   "outputs": [],
   "source": [
    "email4 = \"\"\"\n",
    "Dobrý den,\n",
    "\n",
    "potřeboval bych se zeptat, zda si můžu dopsat druhý písemný test,\n",
    "na minulou hodinu jsem z důvodu nemoci nemohl přijít.\n",
    "\n",
    "S pozdravem,\n",
    "Jan Kašel\n",
    "\"\"\""
   ]
  },
  {
   "cell_type": "code",
   "execution_count": 34,
   "metadata": {},
   "outputs": [],
   "source": [
    "email5 = \"\"\"\n",
    "Dobrý den,\n",
    "\n",
    "tento týden jsem v Praze, můžeme se sejít na konzultaci na Staroměstském náměstí v pondělí ve 12:30?\n",
    "\n",
    "S pozdravem,\n",
    "Jan Novák\n",
    "\"\"\""
   ]
  },
  {
   "cell_type": "code",
   "execution_count": 35,
   "metadata": {},
   "outputs": [],
   "source": [
    "FAQ = [\n",
    "    (\"Lze dopsat test, pokud jsem byl nemocný?\", \"Ano, lze na dalším cvičení.\"),\n",
    "    (\"Jaké máte termíny konzultací?\", \"Konzultace probíhají vždy ve středu od 14:00 do 16:00.\"),\n",
    "    (\"Jaké je heslo k Wi-Fi?\", \"Heslo k Wi-Fi je '12345678'.\"),\n",
    "]"
   ]
  },
  {
   "cell_type": "code",
   "execution_count": 36,
   "metadata": {},
   "outputs": [],
   "source": [
    "MAIL_CATEGORY = {\n",
    "    (\"SPAM\", \"Nevyžádaná pošta, nevyžádané nabídky, phishingové emaily.\"),\n",
    "    (\"FAQ\", \"Často kladené otázky.\"),    \n",
    "    (\"MEETING\", \"Email s žádostí o schůzku.\"),\n",
    "    (\"URGENT\", \"Email vyžadující okamžitou odpověď.\"),\n",
    "    (\"OTHER\", \"Ostatní emaily.\"),\n",
    "}"
   ]
  },
  {
   "cell_type": "code",
   "execution_count": 37,
   "metadata": {},
   "outputs": [],
   "source": [
    "FREE_TIMES = [\n",
    "    (\"pondělí\", \"12:30\"),\n",
    "    (\"úterý\", \"14:00\"),\n",
    "    (\"středa\", \"16:00\"),\n",
    "    (\"čtvrtek\", \"10:00\"),\n",
    "    (\"pátek\", \"8:00\"),\n",
    "]"
   ]
  },
  {
   "cell_type": "code",
   "execution_count": 38,
   "metadata": {},
   "outputs": [],
   "source": [
    "MAIL_CLASSIFY_PROMPT = \"\"\"\n",
    "Jsi asistent, který je expertem na klasifikaci e-mailů podle obsahu. \\\n",
    "Klasifikuj e-mail do jedné z následujících kategorií dle jejich popisků. \\\n",
    "Zároveň se podívej, zda e-mail obsahuje nějakou otázku, která by mohla být v FAQ. \\\n",
    "\n",
    "Email: \\\n",
    "{email} \\\n",
    "    \n",
    "Kategorie: \\\n",
    "{categories} \\\n",
    "\n",
    "Kategorie s popisky: \\\n",
    "{category_descriptions} \\\n",
    "\n",
    "FAQ: \\\n",
    "{faq} \\\n",
    "\"\"\""
   ]
  },
  {
   "cell_type": "code",
   "execution_count": 39,
   "metadata": {},
   "outputs": [],
   "source": [
    "RESPONSE_MEETING_PROMPT = \"\"\"\n",
    "Jsi asistent, který odpovídá na e-maily na domluvení schůzky. \\\n",
    "Naspiš odpověď na následující email: \\\n",
    "\n",
    "Email: \\\n",
    "\n",
    "{email} \\\n",
    "\n",
    "Pokud je schůzka možná dle volných termínů, napiš, že je možné se sejít. \\\n",
    "Pokud schůzka neodpovídá volným termínům, navrhni vhodné volné termíny. Dle níže uvedených volných termínů. \\\n",
    "\n",
    "Volné termíny: \\\n",
    "{free_times}\n",
    "\"\"\"\n"
   ]
  },
  {
   "cell_type": "code",
   "execution_count": 40,
   "metadata": {},
   "outputs": [],
   "source": [
    "MAIL_REVIEW_PROMPT = \"\"\"\n",
    "Jsi expertem na psaní textů. Zkontroluj odpověď na email, zda je gramaticky správně, \\\n",
    "zda odpovídá na otázku, zda je slušná a formální a zda je vhodná pro odeslání. Pokud \\\n",
    "není v pořádku, navrhni připomínky. \\\n",
    "\n",
    "Původní Email:\n",
    "{email} \\\n",
    "\n",
    "Odpověď:\n",
    "{response} \\\n",
    "\"\"\""
   ]
  },
  {
   "cell_type": "code",
   "execution_count": 41,
   "metadata": {},
   "outputs": [],
   "source": [
    "def classifier_node(state: AgentState):\n",
    "    categories = [name for name, description in MAIL_CATEGORY]\n",
    "    category_descriptions = [name + \"-\" + description for name, description in MAIL_CATEGORY]\n",
    "    messages = [\n",
    "        SystemMessage(content=MAIL_CLASSIFY_PROMPT.format(email=state[\"email\"], \n",
    "                                                          categories=\", \".join(categories), \n",
    "                                                          faq=\", \".join([q for q, a in FAQ]),\n",
    "                                                            category_descriptions=\", \".join(category_descriptions),\n",
    "                                                          )), \n",
    "        HumanMessage(content=\"Přiřaď e-mail do kategorie:\"),\n",
    "    ]\n",
    "    category = model.with_structured_output(Category).invoke(messages)    \n",
    "    \n",
    "    return {\"category\": category.name}"
   ]
  },
  {
   "cell_type": "code",
   "execution_count": 42,
   "metadata": {},
   "outputs": [],
   "source": [
    "def response_node(state: AgentState):\n",
    "    if state[\"category\"] == \"MEETING\":\n",
    "        messages = [\n",
    "            SystemMessage(content=RESPONSE_MEETING_PROMPT.format(email=state[\"email\"], free_times=\", \".join([f\"{day} v {time}\" for day, time in FREE_TIMES]))), \n",
    "            HumanMessage(content=\"Napiš odpověď na e-mail:\"),\n",
    "        ]\n",
    "        response = model.invoke(messages)\n",
    "    else:\n",
    "        response = \"Děkuji za e-mail. Odpovím co nejdříve to bude možné.\"\n",
    "        \n",
    "    return {\"response\": response}    "
   ]
  },
  {
   "cell_type": "code",
   "execution_count": 43,
   "metadata": {},
   "outputs": [],
   "source": [
    "def start_node(state: AgentState):\n",
    "    \n",
    "    messages = [\n",
    "        SystemMessage(content=\"Jsi milý komunikační asistent.\"), \n",
    "        HumanMessage(content=\"Ahoj.\"),\n",
    "    ]\n",
    "    response = model.invoke(messages)    \n",
    "        \n",
    "    return {\"response\": response}    "
   ]
  },
  {
   "cell_type": "code",
   "execution_count": 44,
   "metadata": {},
   "outputs": [],
   "source": [
    "builder = StateGraph(AgentState)\n",
    "builder.add_node(\"classifier\", classifier_node)\n",
    "builder.add_node(\"responder\", response_node)\n",
    "\n",
    "builder.add_edge(\"classifier\", \"responder\")\n",
    "builder.add_edge(\"responder\", END)\n",
    "\n",
    "builder.set_entry_point(\"classifier\")\n",
    "graph = builder.compile(checkpointer=memory)"
   ]
  },
  {
   "cell_type": "code",
   "execution_count": null,
   "metadata": {},
   "outputs": [],
   "source": [
    "import time\n",
    "\n",
    "thread = {\"configurable\": {\"thread_id\": \"1\"}}\n",
    "state = None\n",
    "for s in graph.stream({\n",
    "    'email': email3,\n",
    "}, thread):\n",
    "    state = s\n",
    "    print(s, s.keys())    \n",
    "    time.sleep(1)"
   ]
  },
  {
   "cell_type": "code",
   "execution_count": null,
   "metadata": {},
   "outputs": [],
   "source": []
  }
 ],
 "metadata": {
  "kernelspec": {
   "display_name": "Python 3",
   "language": "python",
   "name": "python3"
  },
  "language_info": {
   "codemirror_mode": {
    "name": "ipython",
    "version": 3
   },
   "file_extension": ".py",
   "mimetype": "text/x-python",
   "name": "python",
   "nbconvert_exporter": "python",
   "pygments_lexer": "ipython3",
   "version": "3.10.11"
  }
 },
 "nbformat": 4,
 "nbformat_minor": 2
}
